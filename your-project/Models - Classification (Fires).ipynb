{
 "cells": [
  {
   "cell_type": "code",
   "execution_count": 2,
   "metadata": {},
   "outputs": [],
   "source": [
    "import pandas as pd\n",
    "import numpy as np\n",
    "import matplotlib.pyplot as plt\n",
    "import matplotlib.ticker as mtick\n",
    "import seaborn as sns\n",
    "from matplotlib.patches import Patch\n",
    "from matplotlib.lines import Line2D\n",
    "\n",
    "%matplotlib inline\n",
    "\n",
    "import pandas_profiling\n",
    "\n",
    "from geopy.geocoders import Nominatim\n",
    "\n",
    "from sklearn.model_selection import train_test_split\n",
    "\n",
    "from sklearn.linear_model import LogisticRegression\n",
    "\n",
    "from sklearn.metrics import confusion_matrix, accuracy_score\n"
   ]
  },
  {
   "cell_type": "code",
   "execution_count": 3,
   "metadata": {},
   "outputs": [
    {
     "data": {
      "text/html": [
       "<div>\n",
       "<style scoped>\n",
       "    .dataframe tbody tr th:only-of-type {\n",
       "        vertical-align: middle;\n",
       "    }\n",
       "\n",
       "    .dataframe tbody tr th {\n",
       "        vertical-align: top;\n",
       "    }\n",
       "\n",
       "    .dataframe thead th {\n",
       "        text-align: right;\n",
       "    }\n",
       "</style>\n",
       "<table border=\"1\" class=\"dataframe\">\n",
       "  <thead>\n",
       "    <tr style=\"text-align: right;\">\n",
       "      <th></th>\n",
       "      <th>datahora</th>\n",
       "      <th>satelite</th>\n",
       "      <th>pais</th>\n",
       "      <th>estado</th>\n",
       "      <th>municipio</th>\n",
       "      <th>bioma</th>\n",
       "      <th>diasemchuva</th>\n",
       "      <th>precipitacao</th>\n",
       "      <th>riscofogo</th>\n",
       "      <th>latitude</th>\n",
       "      <th>longitude</th>\n",
       "      <th>frp</th>\n",
       "      <th>fires</th>\n",
       "      <th>dimention</th>\n",
       "      <th>diasemchuva_bin</th>\n",
       "      <th>precipitacao_bin</th>\n",
       "      <th>riscofogo_bin</th>\n",
       "    </tr>\n",
       "  </thead>\n",
       "  <tbody>\n",
       "    <tr>\n",
       "      <th>0</th>\n",
       "      <td>2019-09-03 17:48:00</td>\n",
       "      <td>NPP-375</td>\n",
       "      <td>Brasil</td>\n",
       "      <td>PARA</td>\n",
       "      <td>JURUTI</td>\n",
       "      <td>Amazonia</td>\n",
       "      <td>0.0</td>\n",
       "      <td>0.0</td>\n",
       "      <td>0.0</td>\n",
       "      <td>-2.25394</td>\n",
       "      <td>-55.80126</td>\n",
       "      <td>2.2</td>\n",
       "      <td>1</td>\n",
       "      <td>Low</td>\n",
       "      <td>0</td>\n",
       "      <td>0</td>\n",
       "      <td>0</td>\n",
       "    </tr>\n",
       "    <tr>\n",
       "      <th>1</th>\n",
       "      <td>2019-09-03 17:42:00</td>\n",
       "      <td>NPP-375</td>\n",
       "      <td>Brasil</td>\n",
       "      <td>MATO GROSSO</td>\n",
       "      <td>COMODORO</td>\n",
       "      <td>Amazonia</td>\n",
       "      <td>0.0</td>\n",
       "      <td>0.0</td>\n",
       "      <td>0.0</td>\n",
       "      <td>-13.18994</td>\n",
       "      <td>-60.12546</td>\n",
       "      <td>5.5</td>\n",
       "      <td>1</td>\n",
       "      <td>Low</td>\n",
       "      <td>0</td>\n",
       "      <td>0</td>\n",
       "      <td>0</td>\n",
       "    </tr>\n",
       "    <tr>\n",
       "      <th>2</th>\n",
       "      <td>2019-09-03 17:48:00</td>\n",
       "      <td>NPP-375</td>\n",
       "      <td>Brasil</td>\n",
       "      <td>PARA</td>\n",
       "      <td>FARO</td>\n",
       "      <td>Amazonia</td>\n",
       "      <td>0.0</td>\n",
       "      <td>0.0</td>\n",
       "      <td>0.0</td>\n",
       "      <td>-1.90173</td>\n",
       "      <td>-56.60860</td>\n",
       "      <td>5.2</td>\n",
       "      <td>1</td>\n",
       "      <td>Low</td>\n",
       "      <td>0</td>\n",
       "      <td>0</td>\n",
       "      <td>0</td>\n",
       "    </tr>\n",
       "    <tr>\n",
       "      <th>3</th>\n",
       "      <td>2019-09-03 17:48:00</td>\n",
       "      <td>NPP-375</td>\n",
       "      <td>Brasil</td>\n",
       "      <td>RORAIMA</td>\n",
       "      <td>UIRAMUTA</td>\n",
       "      <td>Amazonia</td>\n",
       "      <td>0.0</td>\n",
       "      <td>0.0</td>\n",
       "      <td>0.0</td>\n",
       "      <td>4.39931</td>\n",
       "      <td>-60.04727</td>\n",
       "      <td>4.9</td>\n",
       "      <td>1</td>\n",
       "      <td>Low</td>\n",
       "      <td>0</td>\n",
       "      <td>0</td>\n",
       "      <td>0</td>\n",
       "    </tr>\n",
       "    <tr>\n",
       "      <th>4</th>\n",
       "      <td>2019-09-03 17:48:00</td>\n",
       "      <td>NPP-375</td>\n",
       "      <td>Brasil</td>\n",
       "      <td>RORAIMA</td>\n",
       "      <td>UIRAMUTA</td>\n",
       "      <td>Amazonia</td>\n",
       "      <td>0.0</td>\n",
       "      <td>0.0</td>\n",
       "      <td>0.0</td>\n",
       "      <td>4.39865</td>\n",
       "      <td>-60.05195</td>\n",
       "      <td>4.9</td>\n",
       "      <td>1</td>\n",
       "      <td>Low</td>\n",
       "      <td>0</td>\n",
       "      <td>0</td>\n",
       "      <td>0</td>\n",
       "    </tr>\n",
       "  </tbody>\n",
       "</table>\n",
       "</div>"
      ],
      "text/plain": [
       "              datahora satelite    pais       estado municipio     bioma  \\\n",
       "0  2019-09-03 17:48:00  NPP-375  Brasil         PARA    JURUTI  Amazonia   \n",
       "1  2019-09-03 17:42:00  NPP-375  Brasil  MATO GROSSO  COMODORO  Amazonia   \n",
       "2  2019-09-03 17:48:00  NPP-375  Brasil         PARA      FARO  Amazonia   \n",
       "3  2019-09-03 17:48:00  NPP-375  Brasil      RORAIMA  UIRAMUTA  Amazonia   \n",
       "4  2019-09-03 17:48:00  NPP-375  Brasil      RORAIMA  UIRAMUTA  Amazonia   \n",
       "\n",
       "   diasemchuva  precipitacao  riscofogo  latitude  longitude  frp  fires  \\\n",
       "0          0.0           0.0        0.0  -2.25394  -55.80126  2.2      1   \n",
       "1          0.0           0.0        0.0 -13.18994  -60.12546  5.5      1   \n",
       "2          0.0           0.0        0.0  -1.90173  -56.60860  5.2      1   \n",
       "3          0.0           0.0        0.0   4.39931  -60.04727  4.9      1   \n",
       "4          0.0           0.0        0.0   4.39865  -60.05195  4.9      1   \n",
       "\n",
       "  dimention  diasemchuva_bin  precipitacao_bin  riscofogo_bin  \n",
       "0       Low                0                 0              0  \n",
       "1       Low                0                 0              0  \n",
       "2       Low                0                 0              0  \n",
       "3       Low                0                 0              0  \n",
       "4       Low                0                 0              0  "
      ]
     },
     "execution_count": 3,
     "metadata": {},
     "output_type": "execute_result"
    }
   ],
   "source": [
    "fires_inpe_clean = pd.read_csv('fires_inpe_clean.csv')\n",
    "fires_inpe_clean.head()"
   ]
  },
  {
   "cell_type": "code",
   "execution_count": 3,
   "metadata": {},
   "outputs": [
    {
     "data": {
      "text/plain": [
       "datahora             object\n",
       "satelite             object\n",
       "pais                 object\n",
       "estado               object\n",
       "municipio            object\n",
       "bioma                object\n",
       "diasemchuva         float64\n",
       "precipitacao        float64\n",
       "riscofogo           float64\n",
       "latitude            float64\n",
       "longitude           float64\n",
       "frp                 float64\n",
       "fires                 int64\n",
       "dimention            object\n",
       "diasemchuva_bin       int64\n",
       "precipitacao_bin      int64\n",
       "riscofogo_bin         int64\n",
       "dtype: object"
      ]
     },
     "execution_count": 3,
     "metadata": {},
     "output_type": "execute_result"
    }
   ],
   "source": [
    "fires_inpe_clean.dtypes"
   ]
  },
  {
   "cell_type": "code",
   "execution_count": 4,
   "metadata": {},
   "outputs": [],
   "source": [
    "#First Model:\n",
    "\n",
    "#Transforming everything in binomial - predict fire and no the intensity of fire (frp):"
   ]
  },
  {
   "cell_type": "code",
   "execution_count": 4,
   "metadata": {},
   "outputs": [
    {
     "name": "stdout",
     "output_type": "stream",
     "text": [
      "(1446088, 3)\n",
      "(361522, 3)\n"
     ]
    }
   ],
   "source": [
    "X = fires_inpe_clean[['diasemchuva_bin','precipitacao_bin', 'riscofogo_bin']]\n",
    "y= fires_inpe_clean['fires']\n",
    "\n",
    "X_train, X_test, y_train, y_test = train_test_split(X, y, test_size = 0.2, train_size = 0.8)\n",
    "\n",
    "print(X_train.shape)\n",
    "print(X_test.shape)"
   ]
  },
  {
   "cell_type": "code",
   "execution_count": 5,
   "metadata": {},
   "outputs": [
    {
     "data": {
      "text/plain": [
       "LogisticRegression(C=1.0, class_weight=None, dual=False, fit_intercept=True,\n",
       "                   intercept_scaling=1, l1_ratio=None, max_iter=100,\n",
       "                   multi_class='auto', n_jobs=None, penalty='l2',\n",
       "                   random_state=None, solver='lbfgs', tol=0.0001, verbose=0,\n",
       "                   warm_start=False)"
      ]
     },
     "execution_count": 5,
     "metadata": {},
     "output_type": "execute_result"
    }
   ],
   "source": [
    "lr = LogisticRegression()\n",
    "\n",
    "lr.fit(X_train,y_train) #- Unknown label type: 'continuous'"
   ]
  },
  {
   "cell_type": "code",
   "execution_count": 6,
   "metadata": {},
   "outputs": [
    {
     "name": "stdout",
     "output_type": "stream",
     "text": [
      "Confusion matrix:\n",
      "[[120184  84199]\n",
      " [ 56089 101050]]\n",
      "Accuracy score: 61.2%\n"
     ]
    }
   ],
   "source": [
    "from sklearn.metrics import confusion_matrix, accuracy_score\n",
    "\n",
    "y_pred = lr.predict(X_test) # y prediction\n",
    "acc = lr.score(X_test, y_test) * 100 # accuracy score in %\n",
    "\n",
    "print('Confusion matrix:', confusion_matrix(y_test, y_pred), sep = '\\n')\n",
    "print('Accuracy score:', str(round(acc, 2)) + '%')\n"
   ]
  },
  {
   "cell_type": "code",
   "execution_count": null,
   "metadata": {},
   "outputs": [],
   "source": [
    "# binomial, with k means:\n",
    "\n",
    "# Your code here:\n",
    "from sklearn.neighbors import KNeighborsClassifier\n",
    "\n",
    "knn = KNeighborsClassifier(n_neighbors = 3)  # with number in this case?\n",
    "knn.fit(X_train, y_train)\n",
    "y_pred = knn.predict(X_test)\n",
    "\n",
    "acc = knn.score(X_test, y_test)*100\n",
    "print(f\"3 neighbors KNN Score: {round(acc,2)}%\")\n",
    "\n"
   ]
  },
  {
   "cell_type": "code",
   "execution_count": null,
   "metadata": {},
   "outputs": [],
   "source": [
    "print('Confusion matrix:', confusion_matrix(y_test, y_pred), sep = '\\n')"
   ]
  },
  {
   "cell_type": "code",
   "execution_count": null,
   "metadata": {},
   "outputs": [],
   "source": [
    "#X = fires_inpe_clean[['diasemchuva','precipitacao', 'riscofogo', 'fires']]\n",
    "#y= fires_inpe_clean['frp']\n",
    "\n",
    "#X_train, X_test, y_train, y_test = train_test_split(X, y, test_size = 0.2, train_size = 0.8)\n",
    "\n",
    "#print(X_train.shape)\n",
    "#print(X_test.shape)"
   ]
  },
  {
   "cell_type": "code",
   "execution_count": null,
   "metadata": {},
   "outputs": [],
   "source": []
  }
 ],
 "metadata": {
  "kernelspec": {
   "display_name": "Python 3",
   "language": "python",
   "name": "python3"
  },
  "language_info": {
   "codemirror_mode": {
    "name": "ipython",
    "version": 3
   },
   "file_extension": ".py",
   "mimetype": "text/x-python",
   "name": "python",
   "nbconvert_exporter": "python",
   "pygments_lexer": "ipython3",
   "version": "3.6.10"
  }
 },
 "nbformat": 4,
 "nbformat_minor": 4
}
