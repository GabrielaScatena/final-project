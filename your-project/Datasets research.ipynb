{
 "cells": [
  {
   "cell_type": "markdown",
   "metadata": {},
   "source": [
    "Research:\n",
    "\n",
    "Datasets"
   ]
  },
  {
   "cell_type": "code",
   "execution_count": null,
   "metadata": {},
   "outputs": [],
   "source": [
    "https://infoamazonia.org/en/data/\n",
    "    \n",
    "https://www.kaggle.com/alyssonrhuan/forest-fires-in-brazil ()\n",
    "    \n",
    "http://queimadas.dgi.inpe.br/queimadas/bdqueimadas/ \n",
    "    \n",
    "https://www.kaggle.com/mbogernetto/brazilian-amazon-rainforest-degradation\n",
    "https://www.kaggle.com/mbogernetto/is-brazilian-amazon-degradation-increasing/data\n",
    "    \n",
    "https://imazon.org.br/publicacoes/boletim-do-desmatamento-da-amazonia-legal-julho-2019-sad/\n",
    "    \n",
    "http://queimadas.dgi.inpe.br/ (o utilizado - dowload de 2017 a 2019)"
   ]
  },
  {
   "cell_type": "code",
   "execution_count": null,
   "metadata": {},
   "outputs": [],
   "source": [
    "https://www.kaggle.com/carlosparadis/fires-from-space-australia-and-new-zeland\n",
    "    "
   ]
  },
  {
   "cell_type": "code",
   "execution_count": null,
   "metadata": {},
   "outputs": [],
   "source": [
    "https://www.theregister.co.uk/2019/09/19/forest_fire_prediction/\n",
    "https://www.publish.csiro.au/WF/WF19023\n",
    "    \n",
    "    "
   ]
  },
  {
   "cell_type": "code",
   "execution_count": null,
   "metadata": {},
   "outputs": [],
   "source": [
    "Research:\n",
    "\n",
    "Matérias:"
   ]
  },
  {
   "cell_type": "code",
   "execution_count": null,
   "metadata": {},
   "outputs": [],
   "source": [
    "https://www.greenpeace.org/brasil/blog/amazonia-sob-ataque-queimadas-tem-aumento-de-145-em-2019/?gclid=CjwKCAjwmKLzBRBeEiwACCVihiEjg5f-ysASZogOyWTFdD-y8RMc_z7EUmwB-FynNsNzFNw7vlPa8BoCOXEQAvD_BwE\n",
    "    \n",
    "https://pt.wikipedia.org/wiki/Inc%C3%AAndios_florestais_na_Amaz%C3%B4nia_em_2019"
   ]
  },
  {
   "cell_type": "markdown",
   "metadata": {},
   "source": [
    "Instituto Nacional de Pesquisas Espaciais (INPE)"
   ]
  }
 ],
 "metadata": {
  "kernelspec": {
   "display_name": "Python 3",
   "language": "python",
   "name": "python3"
  },
  "language_info": {
   "codemirror_mode": {
    "name": "ipython",
    "version": 3
   },
   "file_extension": ".py",
   "mimetype": "text/x-python",
   "name": "python",
   "nbconvert_exporter": "python",
   "pygments_lexer": "ipython3",
   "version": "3.6.10"
  }
 },
 "nbformat": 4,
 "nbformat_minor": 4
}
